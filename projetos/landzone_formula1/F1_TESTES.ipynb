{
 "cells": [
  {
   "cell_type": "code",
   "execution_count": 0,
   "metadata": {
    "application/vnd.databricks.v1+cell": {
     "cellMetadata": {
      "byteLimit": 2048000,
      "rowLimit": 10000
     },
     "inputWidgets": {},
     "nuid": "8cb38ca9-c989-4e6d-a895-588652778666",
     "showTitle": false,
     "tableResultSettingsMap": {},
     "title": ""
    }
   },
   "outputs": [],
   "source": [
    "from pyspark.sql.functions import current_timestamp"
   ]
  },
  {
   "cell_type": "code",
   "execution_count": 0,
   "metadata": {
    "application/vnd.databricks.v1+cell": {
     "cellMetadata": {
      "byteLimit": 2048000,
      "rowLimit": 10000
     },
     "inputWidgets": {},
     "nuid": "60b40ad0-1e8f-4370-96cd-cfaccc63afdc",
     "showTitle": false,
     "tableResultSettingsMap": {},
     "title": ""
    }
   },
   "outputs": [],
   "source": [
    "files = dbutils.fs.ls(\"/Volumes/workspace/default/arquivos/\")\n",
    "display(files)"
   ]
  },
  {
   "cell_type": "code",
   "execution_count": 0,
   "metadata": {
    "application/vnd.databricks.v1+cell": {
     "cellMetadata": {
      "byteLimit": 2048000,
      "implicitDf": true,
      "rowLimit": 10000
     },
     "inputWidgets": {},
     "nuid": "2a9fd02c-37b5-4e93-bc96-cebb4c51ea74",
     "showTitle": false,
     "tableResultSettingsMap": {},
     "title": ""
    }
   },
   "outputs": [],
   "source": [
    "%sql\n",
    "CREATE DATABASE IF NOT EXISTS FORMULA1"
   ]
  },
  {
   "cell_type": "code",
   "execution_count": 0,
   "metadata": {
    "application/vnd.databricks.v1+cell": {
     "cellMetadata": {
      "byteLimit": 2048000,
      "rowLimit": 10000
     },
     "inputWidgets": {},
     "nuid": "d1fe5881-e2a9-45f1-a802-27d6149c465d",
     "showTitle": false,
     "tableResultSettingsMap": {},
     "title": ""
    }
   },
   "outputs": [],
   "source": [
    "database_name = \"FORMULA1\"\n",
    "\n",
    "for file in dbutils.fs.ls(\"/Volumes/workspace/default/arquivos/\"):\n",
    "    path = file.path\n",
    "    file_name = file.name.replace(\".csv\", \"\")\n",
    "    df = spark.read.option(\"header\", True).option(\"inferSchema\", True).csv(path)\n",
    "    df = df.withColumn(\"bronze_ingestion\", current_timestamp())\n",
    "    df.write.format(\"delta\").saveAsTable(f\"{database_name}.{file_name}\")"
   ]
  },
  {
   "cell_type": "code",
   "execution_count": 0,
   "metadata": {
    "application/vnd.databricks.v1+cell": {
     "cellMetadata": {
      "byteLimit": 2048000,
      "implicitDf": true,
      "rowLimit": 10000
     },
     "inputWidgets": {},
     "nuid": "f5bdea4e-2985-4fbd-8535-db7fedb81a6a",
     "showTitle": false,
     "tableResultSettingsMap": {
      "0": {
       "dataGridStateBlob": "{\"version\":1,\"tableState\":{\"columnPinning\":{\"left\":[\"#row_number#\"],\"right\":[]},\"columnSizing\":{\"tableName\":215},\"columnVisibility\":{}},\"settings\":{\"columns\":{}},\"syncTimestamp\":1752174446883}",
       "filterBlob": null,
       "queryPlanFiltersBlob": null,
       "tableResultIndex": 0
      }
     },
     "title": ""
    }
   },
   "outputs": [],
   "source": [
    "%sql\n",
    "SHOW TABLES IN FORMULA1"
   ]
  },
  {
   "cell_type": "code",
   "execution_count": 0,
   "metadata": {
    "application/vnd.databricks.v1+cell": {
     "cellMetadata": {},
     "inputWidgets": {},
     "nuid": "ea5b6ce0-2b0c-4113-a24d-2079d01186d4",
     "showTitle": false,
     "tableResultSettingsMap": {},
     "title": ""
    }
   },
   "outputs": [],
   "source": [
    "#exemplo com Stream table\n",
    "# df_baixa_stream = (\n",
    "#     spark.readStream.format(\"delta\")\n",
    "#     .table(\"lastros.bronze_baixa\")\n",
    "#     .filter(f.col(\"id_operacao\").isin(operacoes_sem_vencimento_na_baixa))\n",
    "#     .distinct()\n",
    "# )\n",
    "# df.write.format(\"delta\").mode(\"append\") \\\n",
    "#         .option(\"mergeSchema\", \"true\") \\\n",
    "#         .option(\"optimizeWrite\", \"true\") \\\n",
    "#         .option(\"autoCompact\", \"true\") \\\n",
    "#         .saveAsTable(\"lastros.silver_estoque_baixa_gestora\")\n",
    "# df_baixa_stream.writeStream \\\n",
    "#     .foreachBatch(silver_estoque_baixa_gestora) \\\n",
    "#     .option(\"checkpointLocation\", \"/tmp/silver_estoque_baixa_gestora\") \\\n",
    "#     .trigger(availableNow=True) \\\n",
    "#     .start() \\\n",
    "#     .awaitTermination()"
   ]
  }
 ],
 "metadata": {
  "application/vnd.databricks.v1+notebook": {
   "computePreferences": null,
   "dashboards": [],
   "environmentMetadata": {
    "base_environment": "",
    "environment_version": "2"
   },
   "inputWidgetPreferences": null,
   "language": "python",
   "notebookMetadata": {
    "mostRecentlyExecutedCommandWithImplicitDF": {
     "commandId": 6276895199514818,
     "dataframes": [
      "_sqldf"
     ]
    },
    "pythonIndentUnit": 4
   },
   "notebookName": "F1_TESTES",
   "widgets": {}
  },
  "language_info": {
   "name": "python"
  }
 },
 "nbformat": 4,
 "nbformat_minor": 0
}
