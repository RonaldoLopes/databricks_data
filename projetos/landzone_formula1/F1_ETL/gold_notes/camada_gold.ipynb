{
 "cells": [
  {
   "cell_type": "code",
   "execution_count": 0,
   "metadata": {
    "application/vnd.databricks.v1+cell": {
     "cellMetadata": {
      "byteLimit": 2048000,
      "rowLimit": 10000
     },
     "inputWidgets": {},
     "nuid": "2a2c1c1b-5592-4b76-836a-ea317c7bbd65",
     "showTitle": false,
     "tableResultSettingsMap": {},
     "title": ""
    }
   },
   "outputs": [],
   "source": [
    "df_total_points = (\n",
    "    spark.table(\"f1_silver.results\")\n",
    "    .join(spark.table(\"f1_silver.drivers\"), on=\"driverId\", how=\"inner\")\n",
    "    .join(spark.table(\"f1_silver.constructors\"), on=\"constructorId\", how=\"inner\")\n",
    "    .groupBy(\"driverRef\")\n",
    "    .agg({\"points\": \"sum\"}).withColumnRenamed(\"sum(points)\", \"total_points\")\n",
    ")\n",
    "df_total_points.write.format(\"delta\").option(\n",
    "    \"mergeSchema\", True\n",
    ").saveAsTable(f\"f1_gold.total_points\")"
   ]
  }
 ],
 "metadata": {
  "application/vnd.databricks.v1+notebook": {
   "computePreferences": null,
   "dashboards": [],
   "environmentMetadata": {
    "base_environment": "",
    "environment_version": "2"
   },
   "inputWidgetPreferences": null,
   "language": "python",
   "notebookMetadata": {
    "mostRecentlyExecutedCommandWithImplicitDF": {
     "commandId": 5742586719989907,
     "dataframes": [
      "_sqldf"
     ]
    },
    "pythonIndentUnit": 4
   },
   "notebookName": "camada_gold",
   "widgets": {}
  },
  "language_info": {
   "name": "python"
  }
 },
 "nbformat": 4,
 "nbformat_minor": 0
}
