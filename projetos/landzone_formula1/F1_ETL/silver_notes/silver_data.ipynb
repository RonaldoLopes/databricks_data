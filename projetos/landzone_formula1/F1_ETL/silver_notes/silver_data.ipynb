{
 "cells": [
  {
   "cell_type": "markdown",
   "metadata": {
    "application/vnd.databricks.v1+cell": {
     "cellMetadata": {},
     "inputWidgets": {},
     "nuid": "152e6e06-cd29-46e1-a7a8-db6257fe0606",
     "showTitle": false,
     "tableResultSettingsMap": {},
     "title": ""
    }
   },
   "source": [
    "### Tabelas a serem utilizadas\n",
    "- results\n",
    "- drivers\n",
    "- constructors\n",
    "- circuits\n",
    "- races"
   ]
  },
  {
   "cell_type": "code",
   "execution_count": 0,
   "metadata": {
    "application/vnd.databricks.v1+cell": {
     "cellMetadata": {
      "byteLimit": 2048000,
      "rowLimit": 10000
     },
     "inputWidgets": {},
     "nuid": "b1687b65-af04-442b-a55c-cc8445dda99f",
     "showTitle": false,
     "tableResultSettingsMap": {},
     "title": ""
    }
   },
   "outputs": [],
   "source": [
    "from pyspark.sql.functions import col, current_timestamp, when"
   ]
  },
  {
   "cell_type": "code",
   "execution_count": 0,
   "metadata": {
    "application/vnd.databricks.v1+cell": {
     "cellMetadata": {
      "byteLimit": 2048000,
      "implicitDf": true,
      "rowLimit": 10000
     },
     "inputWidgets": {},
     "nuid": "42bd4d56-79bf-4cd1-86e8-f99b247b2240",
     "showTitle": false,
     "tableResultSettingsMap": {},
     "title": ""
    }
   },
   "outputs": [],
   "source": [
    "%sql\n",
    "show tables IN f1_bronze"
   ]
  },
  {
   "cell_type": "code",
   "execution_count": 0,
   "metadata": {
    "application/vnd.databricks.v1+cell": {
     "cellMetadata": {
      "byteLimit": 2048000,
      "rowLimit": 10000
     },
     "inputWidgets": {},
     "nuid": "eed68219-dc97-4174-a8bd-eaea3a55d208",
     "showTitle": false,
     "tableResultSettingsMap": {},
     "title": ""
    }
   },
   "outputs": [],
   "source": [
    "for column in spark.table(\"f1_bronze.results\").columns:\n",
    "    print(f\"{column}\")"
   ]
  },
  {
   "cell_type": "code",
   "execution_count": 0,
   "metadata": {
    "application/vnd.databricks.v1+cell": {
     "cellMetadata": {
      "byteLimit": 2048000,
      "rowLimit": 10000
     },
     "inputWidgets": {},
     "nuid": "f55807f0-1f62-4216-9288-8bffd269ce1b",
     "showTitle": true,
     "tableResultSettingsMap": {},
     "title": "results table"
    }
   },
   "outputs": [],
   "source": [
    "COLUMNS_TO_SELECT = [\n",
    "    \"resultId\",\n",
    "    \"raceId\",\n",
    "    \"driverId\",\n",
    "    \"constructorId\",\n",
    "    \"number\",\n",
    "    \"grid\",\n",
    "    \"position\",\n",
    "    \"positionText\",\n",
    "    \"positionOrder\",\n",
    "    \"points\",\n",
    "    \"laps\",\n",
    "    \"time\",\n",
    "    \"milliseconds\",\n",
    "    \"fastestLap\",\n",
    "    \"rank\",\n",
    "    \"fastestLapTime\",\n",
    "    \"fastestLapSpeed\",\n",
    "    \"bronze_ingestion\",\n",
    "]\n",
    "df_results = (\n",
    "    spark.table(\"f1_bronze.results\")\n",
    "    .select(*COLUMNS_TO_SELECT)\n",
    "    .withColumn(\"silver_ingestion\", current_timestamp())\n",
    "    .withColumnRenamed(\"resultId\", \"result_id\")\n",
    "    .withColumnRenamed(\"raceId\", \"race_id\")\n",
    "    .withColumnRenamed(\"driverId\", \"driver_id\")\n",
    "    .withColumnRenamed(\"constructorId\", \"constructor_id\")\n",
    "    .withColumnRenamed(\"positionText\", \"position_text\")\n",
    "    .withColumnRenamed(\"positionOrder\", \"position_order\")\n",
    "    .withColumn(\n",
    "        \"rank\", when(col(\"rank\") != \"\\\\N\", col(\"rank\").cast(\"int\")).otherwise(None)\n",
    "    )\n",
    "    .filter(col(\"rank\") <= 10)\n",
    ")\n",
    "df_results.write.format(\"delta\") \\\n",
    "    .mode(\"overwrite\") \\\n",
    "    .option(\"overwriteSchema\", \"true\") \\\n",
    "    .partitionBy(\"race_id\") \\\n",
    "    .saveAsTable(\"f1_silver.results\")"
   ]
  }
 ],
 "metadata": {
  "application/vnd.databricks.v1+notebook": {
   "computePreferences": null,
   "dashboards": [],
   "environmentMetadata": {
    "base_environment": "",
    "environment_version": "2"
   },
   "inputWidgetPreferences": null,
   "language": "python",
   "notebookMetadata": {
    "mostRecentlyExecutedCommandWithImplicitDF": {
     "commandId": 8331981268213341,
     "dataframes": [
      "_sqldf"
     ]
    },
    "pythonIndentUnit": 4
   },
   "notebookName": "silver_data",
   "widgets": {}
  },
  "language_info": {
   "name": "python"
  }
 },
 "nbformat": 4,
 "nbformat_minor": 0
}
