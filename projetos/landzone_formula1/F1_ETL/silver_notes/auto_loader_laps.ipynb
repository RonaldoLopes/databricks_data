{
 "cells": [
  {
   "cell_type": "markdown",
   "metadata": {
    "application/vnd.databricks.v1+cell": {
     "cellMetadata": {
      "byteLimit": 2048000,
      "rowLimit": 10000
     },
     "inputWidgets": {},
     "nuid": "7891c1fe-4b05-429e-8d5b-2a6e5fb94597",
     "showTitle": false,
     "tableResultSettingsMap": {},
     "title": ""
    }
   },
   "source": [
    "# Cria um autoloader para tempo de voltas"
   ]
  },
  {
   "cell_type": "code",
   "execution_count": 0,
   "metadata": {
    "application/vnd.databricks.v1+cell": {
     "cellMetadata": {
      "byteLimit": 2048000,
      "rowLimit": 10000
     },
     "inputWidgets": {},
     "nuid": "e59f3015-1d29-4fdc-8a9d-56479ecafea3",
     "showTitle": false,
     "tableResultSettingsMap": {},
     "title": ""
    }
   },
   "outputs": [],
   "source": [
    "from pyspark.sql.functions import *\n",
    "from pyspark.sql.types import *\n",
    "from delta.tables import DeltaTable\n",
    "from pyspark.sql.functions import current_timestamp, col\n",
    "import logging"
   ]
  },
  {
   "cell_type": "code",
   "execution_count": 0,
   "metadata": {
    "application/vnd.databricks.v1+cell": {
     "cellMetadata": {
      "byteLimit": 2048000,
      "rowLimit": 10000
     },
     "inputWidgets": {},
     "nuid": "9aeea497-0354-4fc5-8e73-2a1be5849dfd",
     "showTitle": false,
     "tableResultSettingsMap": {},
     "title": ""
    }
   },
   "outputs": [],
   "source": [
    "source_path = \"dbfs:/Volumes/workspace/default/arquivos/\"\n",
    "# checkpoint_path = \"/Volumes/workspace/default/checkpoints/lap_times\"\n",
    "checkpoint_path = \"/Volumes/workspace/default/checkpoints/lap_times2\"\n",
    "table_name = \"f1_bronze.lap_times\""
   ]
  },
  {
   "cell_type": "code",
   "execution_count": 0,
   "metadata": {
    "application/vnd.databricks.v1+cell": {
     "cellMetadata": {
      "byteLimit": 2048000,
      "rowLimit": 10000
     },
     "inputWidgets": {},
     "nuid": "e6344473-9d97-4dc3-b911-47d10629b437",
     "showTitle": false,
     "tableResultSettingsMap": {},
     "title": ""
    }
   },
   "outputs": [],
   "source": [
    "schema = StructType([\n",
    "    StructField(\"raceId\", IntegerType(), True),\n",
    "    StructField(\"driverId\", IntegerType(), True),\n",
    "    StructField(\"lap\", IntegerType(), True),\n",
    "    StructField(\"position\", IntegerType(), True),\n",
    "    StructField(\"time\", StringType(), True),\n",
    "    StructField(\"milliseconds\", IntegerType(), True),\n",
    "    StructField(\"bronze_ingestion\", TimestampType(), True)\n",
    "])"
   ]
  },
  {
   "cell_type": "code",
   "execution_count": 0,
   "metadata": {
    "application/vnd.databricks.v1+cell": {
     "cellMetadata": {
      "byteLimit": 2048000,
      "rowLimit": 10000
     },
     "inputWidgets": {},
     "nuid": "41b7ff81-275c-44bf-9362-284df45a9e89",
     "showTitle": false,
     "tableResultSettingsMap": {},
     "title": ""
    }
   },
   "outputs": [],
   "source": [
    "# Create the volume if it does not exist\n",
    "spark.sql(\n",
    "    \"\"\"\n",
    "CREATE VOLUME IF NOT EXISTS workspace.default.checkpoints\n",
    "COMMENT 'Volume for checkpoint storage'\n",
    "\"\"\"\n",
    ")"
   ]
  },
  {
   "cell_type": "code",
   "execution_count": 0,
   "metadata": {
    "application/vnd.databricks.v1+cell": {
     "cellMetadata": {
      "byteLimit": 2048000,
      "rowLimit": 10000
     },
     "inputWidgets": {},
     "nuid": "26625529-7b11-462d-95ab-bd6a43a72b2d",
     "showTitle": false,
     "tableResultSettingsMap": {},
     "title": ""
    }
   },
   "outputs": [],
   "source": [
    "#stream de leitura\n",
    "df_stream = (\n",
    "    spark.readStream\n",
    "    .format(\"cloudFiles\")\n",
    "    .option(\"cloudFiles.format\", \"csv\")\n",
    "    .option(\"cloudFiles.schemaLocation\", checkpoint_path)\n",
    "    .schema(schema)\n",
    "    .load(source_path)\n",
    "    .withColumn(\"bronze_ingestion\", current_timestamp())\n",
    ")\n",
    "\n",
    "query = (\n",
    "    df_stream.writeStream\n",
    "    .format(\"delta\")\n",
    "    .outputMode(\"append\")\n",
    "    .option(\"checkpointLocation\", checkpoint_path)\n",
    "    .option(\"cloudFiles.useNotifications\", \"true\")\n",
    "    .option(\"mergeSchema\", \"true\")\n",
    "    .trigger(availableNow=True)\n",
    "    .table(table_name)\n",
    ")\n",
    "query.awaitTermination()"
   ]
  },
  {
   "cell_type": "code",
   "execution_count": 0,
   "metadata": {
    "application/vnd.databricks.v1+cell": {
     "cellMetadata": {
      "byteLimit": 2048000,
      "implicitDf": true,
      "rowLimit": 10000
     },
     "inputWidgets": {},
     "nuid": "3df6593a-5467-47dd-a145-f2d217d25174",
     "showTitle": false,
     "tableResultSettingsMap": {},
     "title": ""
    }
   },
   "outputs": [],
   "source": [
    "df_bronze_lap_times =  spark.readStream .format(\"delta\").table(table_name)"
   ]
  },
  {
   "cell_type": "markdown",
   "metadata": {
    "application/vnd.databricks.v1+cell": {
     "cellMetadata": {
      "byteLimit": 2048000,
      "rowLimit": 10000
     },
     "inputWidgets": {},
     "nuid": "7cb3dc7d-1eef-4487-a3dd-06a55195eb26",
     "showTitle": false,
     "tableResultSettingsMap": {},
     "title": ""
    }
   },
   "source": [
    "Incremental com autoloader"
   ]
  },
  {
   "cell_type": "code",
   "execution_count": 0,
   "metadata": {
    "application/vnd.databricks.v1+cell": {
     "cellMetadata": {
      "byteLimit": 2048000,
      "rowLimit": 10000
     },
     "inputWidgets": {},
     "nuid": "50662d51-641e-4b87-8f3b-edec9b915453",
     "showTitle": false,
     "tableResultSettingsMap": {},
     "title": ""
    }
   },
   "outputs": [],
   "source": [
    "from delta.tables import DeltaTable\n",
    "from pyspark.sql.functions import current_timestamp, col\n",
    "import logging\n",
    "\n",
    "def insert_update_delta(df, batchId):\n",
    "    try:\n",
    "        table_name = \"f1_silver.lap_times\"\n",
    "        \n",
    "        df_silver = (\n",
    "            df.dropDuplicates()\n",
    "            .withColumn(\"ingestion_date\", current_timestamp())\n",
    "            .filter(\n",
    "                (col(\"raceId\").isNotNull()) &\n",
    "                (col(\"driverId\").isNotNull())\n",
    "            )\n",
    "            .withColumnRenamed(\"lap\", \"lap_number\")\n",
    "        )\n",
    "        \n",
    "        # Verifica se a tabela existe no catálogo/metastore\n",
    "        if spark.catalog.tableExists(table_name):\n",
    "            delta_table = DeltaTable.forName(spark, table_name)\n",
    "            condition = (\n",
    "                'b.raceId = s.raceId AND '\n",
    "                'b.driverId = s.driverId AND '\n",
    "                'b.lap_number = s.lap_number'\n",
    "            )\n",
    "\n",
    "            (delta_table.alias('b')\n",
    "                .merge(df_silver.alias('s'), condition)\n",
    "                .whenMatchedUpdateAll()\n",
    "                .whenNotMatchedInsertAll()\n",
    "                .execute())\n",
    "        else:\n",
    "            # Primeira execução: cria a tabela com base no schema do DataFrame\n",
    "            df_silver.write.format(\"delta\") \\\n",
    "                .mode(\"overwrite\") \\\n",
    "                .saveAsTable(table_name)\n",
    "        \n",
    "    except Exception as e:\n",
    "        logging.error(f\"Error in batch {batchId}: {str(e)}\")\n",
    "        raise\n"
   ]
  },
  {
   "cell_type": "code",
   "execution_count": 0,
   "metadata": {
    "application/vnd.databricks.v1+cell": {
     "cellMetadata": {
      "byteLimit": 2048000,
      "rowLimit": 10000
     },
     "inputWidgets": {},
     "nuid": "bb12e2b8-4657-4595-a593-8cf9db1b673a",
     "showTitle": false,
     "tableResultSettingsMap": {},
     "title": ""
    }
   },
   "outputs": [],
   "source": [
    "df_bronze_lap_times.writeStream \\\n",
    "    .foreachBatch(insert_update_delta) \\\n",
    "    .option(\"checkpointLocation\", '/Volumes/workspace/default/checkpoints/lap_timesS-silver') \\\n",
    "    .trigger(availableNow=True) \\\n",
    "    .start() \\\n",
    "    .awaitTermination()\n"
   ]
  }
 ],
 "metadata": {
  "application/vnd.databricks.v1+notebook": {
   "computePreferences": null,
   "dashboards": [],
   "environmentMetadata": {
    "base_environment": "",
    "environment_version": "2"
   },
   "inputWidgetPreferences": null,
   "language": "python",
   "notebookMetadata": {
    "mostRecentlyExecutedCommandWithImplicitDF": {
     "commandId": 4903439365695937,
     "dataframes": [
      "_sqldf"
     ]
    },
    "pythonIndentUnit": 4
   },
   "notebookName": "auto_loader_laps",
   "widgets": {}
  },
  "language_info": {
   "name": "python"
  }
 },
 "nbformat": 4,
 "nbformat_minor": 0
}
