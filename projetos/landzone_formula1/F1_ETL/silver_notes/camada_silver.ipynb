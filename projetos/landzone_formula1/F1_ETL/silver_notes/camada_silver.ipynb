{
 "cells": [
  {
   "cell_type": "code",
   "execution_count": 0,
   "metadata": {
    "application/vnd.databricks.v1+cell": {
     "cellMetadata": {
      "byteLimit": 2048000,
      "rowLimit": 10000
     },
     "inputWidgets": {},
     "nuid": "fccd96cf-9bd5-462b-ac07-0a4a4e039631",
     "showTitle": false,
     "tableResultSettingsMap": {},
     "title": ""
    }
   },
   "outputs": [],
   "source": [
    "from pyspark.sql.functions import current_timestamp"
   ]
  },
  {
   "cell_type": "code",
   "execution_count": 0,
   "metadata": {
    "application/vnd.databricks.v1+cell": {
     "cellMetadata": {
      "byteLimit": 2048000,
      "rowLimit": 10000
     },
     "inputWidgets": {},
     "nuid": "29ea3b68-f65b-49bc-bfe2-c3af7a0842f2",
     "showTitle": false,
     "tableResultSettingsMap": {},
     "title": ""
    }
   },
   "outputs": [],
   "source": [
    "%sql\n",
    "SHOW TABLES IN f1_bronze"
   ]
  },
  {
   "cell_type": "code",
   "execution_count": 0,
   "metadata": {
    "application/vnd.databricks.v1+cell": {
     "cellMetadata": {
      "byteLimit": 2048000,
      "rowLimit": 10000
     },
     "inputWidgets": {},
     "nuid": "36b3b02c-5e04-46ae-8299-78e9a789da9b",
     "showTitle": false,
     "tableResultSettingsMap": {},
     "title": ""
    }
   },
   "outputs": [],
   "source": [
    "df = spark.table('f1_bronze.constructor_results')\n",
    "df.printSchema()"
   ]
  },
  {
   "cell_type": "code",
   "execution_count": 0,
   "metadata": {
    "application/vnd.databricks.v1+cell": {
     "cellMetadata": {
      "byteLimit": 2048000,
      "rowLimit": 10000
     },
     "inputWidgets": {},
     "nuid": "9fb64f27-0a9a-4f07-8442-83eae75120ae",
     "showTitle": false,
     "tableResultSettingsMap": {},
     "title": ""
    }
   },
   "outputs": [],
   "source": [
    "database_name = \"f1_silver\""
   ]
  },
  {
   "cell_type": "code",
   "execution_count": 0,
   "metadata": {
    "application/vnd.databricks.v1+cell": {
     "cellMetadata": {
      "byteLimit": 2048000,
      "rowLimit": 10000
     },
     "inputWidgets": {},
     "nuid": "7de92c00-89c3-4fdf-90f6-9d2acee02c4d",
     "showTitle": false,
     "tableResultSettingsMap": {},
     "title": ""
    }
   },
   "outputs": [],
   "source": [
    "COLUMNS_GET = [\n",
    "    \"circuitId\",\n",
    "    \"circuitRef\",\n",
    "    \"name\",\n",
    "    \"location\",\n",
    "    \"country\",\n",
    "    \"lat\",\n",
    "    \"lng\",\n",
    "    \"alt\",\n",
    "]\n",
    "df_circuits_silver = (\n",
    "    spark.table(\"f1_bronze.circuits\")\n",
    "    .select(*COLUMNS_GET)\n",
    "    .withColumnRenamed(\"circuitId\", \"circuit_id\")\n",
    "    .withColumnRenamed(\"name\", \"circuit_name\")\n",
    "    .withColumnRenamed(\"circuitRef\", \"circuit_ref\")\n",
    "    .where(\"circuit_id > 10\")\n",
    ")\n",
    "df_circuits_silver.write.format(\"delta\").mode(\"overwrite\").option(\n",
    "    \"mergeSchema\", True\n",
    ").saveAsTable(f\"{database_name}.circuits\")"
   ]
  },
  {
   "cell_type": "code",
   "execution_count": 0,
   "metadata": {
    "application/vnd.databricks.v1+cell": {
     "cellMetadata": {
      "byteLimit": 2048000,
      "rowLimit": 10000
     },
     "inputWidgets": {},
     "nuid": "af73e5b3-60da-445a-85d4-f5a5427473ae",
     "showTitle": false,
     "tableResultSettingsMap": {},
     "title": ""
    }
   },
   "outputs": [],
   "source": [
    "COLUMNS_GET = [\n",
    "    \"constructorResultsId\", \"raceId\", \"constructorId\", \"points\", \"status\"\n",
    "]\n",
    "df_results_silver = (\n",
    "    spark.table(\"f1_bronze.constructor_results\")\n",
    "    .select(*COLUMNS_GET)\n",
    "    .withColumnRenamed(\"constructorResultsId\", \"constructor_results_id\")\n",
    "    .withColumnRenamed(\"raceId\", \"race_id\")\n",
    "    .withColumnRenamed(\"constructorId\", \"constructor_id\")\n",
    "    .withColumn(\"prata_ingestion\", current_timestamp())\n",
    "    .where(\"constructor_id > 10\")\n",
    ")\n",
    "df_circuits_silver.write.format(\"delta\").mode(\"overwrite\").option(\n",
    "    \"mergeSchema\", True\n",
    ").saveAsTable(f\"{database_name}.results\")"
   ]
  },
  {
   "cell_type": "code",
   "execution_count": 0,
   "metadata": {
    "application/vnd.databricks.v1+cell": {
     "cellMetadata": {
      "byteLimit": 2048000,
      "rowLimit": 10000
     },
     "inputWidgets": {},
     "nuid": "8f105527-5019-47cf-a6d6-6135d9ca00f9",
     "showTitle": false,
     "tableResultSettingsMap": {},
     "title": ""
    }
   },
   "outputs": [],
   "source": [
    "df_drivers_silver = (\n",
    "    spark.table(\"f1_bronze.drivers\")\n",
    "    .withColumn(\"prata_ingestion\", current_timestamp())\n",
    ")\n",
    "df_drivers_silver.write.format(\"delta\").mode(\"overwrite\").option(\n",
    "    \"mergeSchema\", True\n",
    ").saveAsTable(f\"{database_name}.drivers\")"
   ]
  },
  {
   "cell_type": "code",
   "execution_count": 0,
   "metadata": {
    "application/vnd.databricks.v1+cell": {
     "cellMetadata": {
      "byteLimit": 2048000,
      "rowLimit": 10000
     },
     "inputWidgets": {},
     "nuid": "1c9d87bd-22e6-4dbe-ae49-5d97266c1bbd",
     "showTitle": false,
     "tableResultSettingsMap": {},
     "title": ""
    }
   },
   "outputs": [],
   "source": [
    "df_results_silver = (\n",
    "    spark.table(\"f1_bronze.results\")\n",
    "    .withColumn(\"prata_ingestion\", current_timestamp())\n",
    ")\n",
    "df_results_silver.write.format(\"delta\").mode(\"overwrite\").option(\n",
    "    \"mergeSchema\", True\n",
    ").saveAsTable(f\"{database_name}.results\")\n"
   ]
  },
  {
   "cell_type": "code",
   "execution_count": 0,
   "metadata": {
    "application/vnd.databricks.v1+cell": {
     "cellMetadata": {
      "byteLimit": 2048000,
      "rowLimit": 10000
     },
     "inputWidgets": {},
     "nuid": "1970066b-53e7-4a1b-bd11-1db9a2faa1b1",
     "showTitle": false,
     "tableResultSettingsMap": {},
     "title": ""
    }
   },
   "outputs": [],
   "source": [
    "df_constructors_silver = (\n",
    "    spark.table(\"f1_bronze.constructors\")\n",
    "    .withColumn(\"prata_ingestion\", current_timestamp())\n",
    ")\n",
    "df_constructors_silver.write.format(\"delta\").mode(\"overwrite\").option(\n",
    "    \"mergeSchema\", True\n",
    ").saveAsTable(f\"{database_name}.constructors\")"
   ]
  }
 ],
 "metadata": {
  "application/vnd.databricks.v1+notebook": {
   "computePreferences": null,
   "dashboards": [],
   "environmentMetadata": {
    "base_environment": "",
    "environment_version": "2"
   },
   "inputWidgetPreferences": null,
   "language": "python",
   "notebookMetadata": {
    "mostRecentlyExecutedCommandWithImplicitDF": {
     "commandId": 4600982716883659,
     "dataframes": [
      "_sqldf"
     ]
    },
    "pythonIndentUnit": 4
   },
   "notebookName": "camada_silver",
   "widgets": {}
  },
  "language_info": {
   "name": "python"
  }
 },
 "nbformat": 4,
 "nbformat_minor": 0
}
